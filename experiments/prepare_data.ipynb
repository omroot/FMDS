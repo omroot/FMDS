{
 "cells": [
  {
   "cell_type": "code",
   "execution_count": null,
   "id": "85e5cb67-7936-48c7-881b-6db9dd0afe49",
   "metadata": {},
   "outputs": [],
   "source": []
  },
  {
   "cell_type": "code",
   "execution_count": 1,
   "id": "33407639-693d-4356-b2d1-975465fff990",
   "metadata": {},
   "outputs": [],
   "source": [
    "import sys"
   ]
  },
  {
   "cell_type": "code",
   "execution_count": 2,
   "id": "1bdf24f5-32f1-4d45-bd46-d6e6655f2231",
   "metadata": {},
   "outputs": [],
   "source": [
    "import pandas  as pd "
   ]
  },
  {
   "cell_type": "code",
   "execution_count": 3,
   "id": "522f7601-15d5-4612-a2ff-e847dcafb7b6",
   "metadata": {},
   "outputs": [],
   "source": [
    "raw_data = pd.read_excel('../persisted/raw_data.xlsx', sheet_name=None, engine='openpyxl')\n"
   ]
  },
  {
   "cell_type": "code",
   "execution_count": 4,
   "id": "dbf55078-00c2-441a-b24c-943a12a09b8f",
   "metadata": {},
   "outputs": [],
   "source": [
    "dataset = []\n",
    "for (k, df) in raw_data.items():\n",
    "    df.columns = ['tradeDate', 'ClosePrice']\n",
    "    df['Ticker'] = k\n",
    "    dataset.append(df)\n",
    "dataset = pd.concat(dataset).reset_index()"
   ]
  },
  {
   "cell_type": "code",
   "execution_count": 5,
   "id": "57865309-8fb3-47ec-90c7-cbce108c794e",
   "metadata": {},
   "outputs": [
    {
     "data": {
      "text/html": [
       "<div>\n",
       "<style scoped>\n",
       "    .dataframe tbody tr th:only-of-type {\n",
       "        vertical-align: middle;\n",
       "    }\n",
       "\n",
       "    .dataframe tbody tr th {\n",
       "        vertical-align: top;\n",
       "    }\n",
       "\n",
       "    .dataframe thead th {\n",
       "        text-align: right;\n",
       "    }\n",
       "</style>\n",
       "<table border=\"1\" class=\"dataframe\">\n",
       "  <thead>\n",
       "    <tr style=\"text-align: right;\">\n",
       "      <th></th>\n",
       "      <th>index</th>\n",
       "      <th>tradeDate</th>\n",
       "      <th>ClosePrice</th>\n",
       "      <th>Ticker</th>\n",
       "    </tr>\n",
       "  </thead>\n",
       "  <tbody>\n",
       "    <tr>\n",
       "      <th>0</th>\n",
       "      <td>0</td>\n",
       "      <td>NaT</td>\n",
       "      <td>132.21</td>\n",
       "      <td>LLY</td>\n",
       "    </tr>\n",
       "    <tr>\n",
       "      <th>1</th>\n",
       "      <td>1</td>\n",
       "      <td>2020-01-03 00:00:00</td>\n",
       "      <td>131.77</td>\n",
       "      <td>LLY</td>\n",
       "    </tr>\n",
       "    <tr>\n",
       "      <th>2</th>\n",
       "      <td>2</td>\n",
       "      <td>2020-01-06 00:00:00</td>\n",
       "      <td>132.26</td>\n",
       "      <td>LLY</td>\n",
       "    </tr>\n",
       "    <tr>\n",
       "      <th>3</th>\n",
       "      <td>3</td>\n",
       "      <td>2020-01-07 00:00:00</td>\n",
       "      <td>132.51</td>\n",
       "      <td>LLY</td>\n",
       "    </tr>\n",
       "    <tr>\n",
       "      <th>4</th>\n",
       "      <td>4</td>\n",
       "      <td>2020-01-08 00:00:00</td>\n",
       "      <td>133.71</td>\n",
       "      <td>LLY</td>\n",
       "    </tr>\n",
       "    <tr>\n",
       "      <th>...</th>\n",
       "      <td>...</td>\n",
       "      <td>...</td>\n",
       "      <td>...</td>\n",
       "      <td>...</td>\n",
       "    </tr>\n",
       "    <tr>\n",
       "      <th>42167</th>\n",
       "      <td>1362</td>\n",
       "      <td>2025-06-04 00:00:00</td>\n",
       "      <td>71.37</td>\n",
       "      <td>KO</td>\n",
       "    </tr>\n",
       "    <tr>\n",
       "      <th>42168</th>\n",
       "      <td>1363</td>\n",
       "      <td>2025-06-05 00:00:00</td>\n",
       "      <td>70.91</td>\n",
       "      <td>KO</td>\n",
       "    </tr>\n",
       "    <tr>\n",
       "      <th>42169</th>\n",
       "      <td>1364</td>\n",
       "      <td>2025-06-06 00:00:00</td>\n",
       "      <td>71.35</td>\n",
       "      <td>KO</td>\n",
       "    </tr>\n",
       "    <tr>\n",
       "      <th>42170</th>\n",
       "      <td>1365</td>\n",
       "      <td>2025-06-09 00:00:00</td>\n",
       "      <td>71.77</td>\n",
       "      <td>KO</td>\n",
       "    </tr>\n",
       "    <tr>\n",
       "      <th>42171</th>\n",
       "      <td>1366</td>\n",
       "      <td>2025-06-10 00:00:00</td>\n",
       "      <td>72.35</td>\n",
       "      <td>KO</td>\n",
       "    </tr>\n",
       "  </tbody>\n",
       "</table>\n",
       "<p>42172 rows × 4 columns</p>\n",
       "</div>"
      ],
      "text/plain": [
       "       index            tradeDate ClosePrice Ticker\n",
       "0          0                  NaT     132.21    LLY\n",
       "1          1  2020-01-03 00:00:00     131.77    LLY\n",
       "2          2  2020-01-06 00:00:00     132.26    LLY\n",
       "3          3  2020-01-07 00:00:00     132.51    LLY\n",
       "4          4  2020-01-08 00:00:00     133.71    LLY\n",
       "...      ...                  ...        ...    ...\n",
       "42167   1362  2025-06-04 00:00:00      71.37     KO\n",
       "42168   1363  2025-06-05 00:00:00      70.91     KO\n",
       "42169   1364  2025-06-06 00:00:00      71.35     KO\n",
       "42170   1365  2025-06-09 00:00:00      71.77     KO\n",
       "42171   1366  2025-06-10 00:00:00      72.35     KO\n",
       "\n",
       "[42172 rows x 4 columns]"
      ]
     },
     "execution_count": 5,
     "metadata": {},
     "output_type": "execute_result"
    }
   ],
   "source": [
    "dataset"
   ]
  },
  {
   "cell_type": "code",
   "execution_count": 6,
   "id": "5c966a72-0f03-4e24-b15b-219f5d3bd344",
   "metadata": {},
   "outputs": [],
   "source": [
    "dataset.to_csv('../persisted/dataset.csv')"
   ]
  }
 ],
 "metadata": {
  "kernelspec": {
   "display_name": "Python (dl_finance)",
   "language": "python",
   "name": "dl_finance"
  },
  "language_info": {
   "codemirror_mode": {
    "name": "ipython",
    "version": 3
   },
   "file_extension": ".py",
   "mimetype": "text/x-python",
   "name": "python",
   "nbconvert_exporter": "python",
   "pygments_lexer": "ipython3",
   "version": "3.10.16"
  }
 },
 "nbformat": 4,
 "nbformat_minor": 5
}
